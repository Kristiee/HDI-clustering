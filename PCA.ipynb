{
 "cells": [
  {
   "cell_type": "markdown",
   "metadata": {},
   "source": [
    "# PCA"
   ]
  },
  {
   "cell_type": "markdown",
   "metadata": {},
   "source": [
    "sklearn.datasets.load_digits"
   ]
  },
  {
   "cell_type": "code",
   "execution_count": 1,
   "metadata": {},
   "outputs": [],
   "source": [
    "import matplotlib.pyplot as plt\n",
    "import numpy as np\n",
    "import pandas as pd"
   ]
  },
  {
   "cell_type": "code",
   "execution_count": 2,
   "metadata": {},
   "outputs": [],
   "source": [
    "from sklearn.datasets import load_digits"
   ]
  },
  {
   "cell_type": "code",
   "execution_count": 3,
   "metadata": {},
   "outputs": [
    {
     "data": {
      "text/plain": [
       "dict_keys(['data', 'target', 'target_names', 'images', 'DESCR'])"
      ]
     },
     "execution_count": 3,
     "metadata": {},
     "output_type": "execute_result"
    }
   ],
   "source": [
    "mist = load_digits()\n",
    "# mist\n",
    "#this is dictionany created and its keys are\n",
    "mist.keys()"
   ]
  },
  {
   "cell_type": "code",
   "execution_count": 4,
   "metadata": {},
   "outputs": [
    {
     "data": {
      "text/plain": [
       "(1797, 8, 8)"
      ]
     },
     "execution_count": 4,
     "metadata": {},
     "output_type": "execute_result"
    }
   ],
   "source": [
    "data = mist['images']\n",
    "data.shape"
   ]
  },
  {
   "cell_type": "code",
   "execution_count": 5,
   "metadata": {},
   "outputs": [
    {
     "data": {
      "text/plain": [
       "<matplotlib.image.AxesImage at 0x7f7e2309e0b8>"
      ]
     },
     "execution_count": 5,
     "metadata": {},
     "output_type": "execute_result"
    },
    {
     "data": {
      "image/png": "[encoded data removed]",
      "text/plain": [
       "<Figure size 432x288 with 1 Axes>"
      ]
     },
     "metadata": {
      "needs_background": "light"
     },
     "output_type": "display_data"
    }
   ],
   "source": [
    "#visualize the images i.e which digit\n",
    "plt.imshow(data[0])"
   ]
  },
  {
   "cell_type": "code",
   "execution_count": 6,
   "metadata": {},
   "outputs": [
    {
     "data": {
      "text/plain": [
       "<matplotlib.image.AxesImage at 0x7f7e22df9978>"
      ]
     },
     "execution_count": 6,
     "metadata": {},
     "output_type": "execute_result"
    },
    {
     "data": {
      "image/png": "[encoded data removed]",
      "text/plain": [
       "<Figure size 432x288 with 1 Axes>"
      ]
     },
     "metadata": {
      "needs_background": "light"
     },
     "output_type": "display_data"
    }
   ],
   "source": [
    "plt.imshow(data[0], cmap='gray')"
   ]
  },
  {
   "cell_type": "code",
   "execution_count": 7,
   "metadata": {},
   "outputs": [
    {
     "data": {
      "text/plain": [
       "<matplotlib.image.AxesImage at 0x7f7e22feae80>"
      ]
     },
     "execution_count": 7,
     "metadata": {},
     "output_type": "execute_result"
    },
    {
     "data": {
      "image/png": "[encoded data removed]",
      "text/plain": [
       "<Figure size 432x288 with 1 Axes>"
      ]
     },
     "metadata": {
      "needs_background": "light"
     },
     "output_type": "display_data"
    }
   ],
   "source": [
    "plt.imshow(data[2])"
   ]
  },
  {
   "cell_type": "code",
   "execution_count": 8,
   "metadata": {},
   "outputs": [
    {
     "name": "stdout",
     "output_type": "stream",
     "text": [
      "(1797, 64)\n"
     ]
    }
   ],
   "source": [
    "#Expected out (1797,64)\n",
    "print(mist.data.shape)\n"
   ]
  },
  {
   "cell_type": "code",
   "execution_count": 9,
   "metadata": {},
   "outputs": [],
   "source": [
    "#reshaping data to that of mist data (1979,64)\n",
    "data = data.reshape(1797,64)"
   ]
  },
  {
   "cell_type": "code",
   "execution_count": 10,
   "metadata": {},
   "outputs": [
    {
     "data": {
      "text/plain": [
       "(1797, 64)"
      ]
     },
     "execution_count": 10,
     "metadata": {},
     "output_type": "execute_result"
    }
   ],
   "source": [
    "data.shape"
   ]
  },
  {
   "cell_type": "code",
   "execution_count": 11,
   "metadata": {},
   "outputs": [
    {
     "data": {
      "text/plain": [
       "(64,)"
      ]
     },
     "execution_count": 11,
     "metadata": {},
     "output_type": "execute_result"
    }
   ],
   "source": [
    "#calculate mean\n",
    "#(1,64) No of features\n",
    "data_mean = np.mean(data, axis = 0)\n",
    "data_mean.shape"
   ]
  },
  {
   "cell_type": "code",
   "execution_count": 12,
   "metadata": {},
   "outputs": [
    {
     "data": {
      "text/plain": [
       "array([[ 0.        , -0.30383973, -0.20478575, ..., -6.7640512 ,\n",
       "        -2.06789093, -0.36449638],\n",
       "       [ 0.        , -0.30383973, -5.20478575, ...,  3.2359488 ,\n",
       "        -2.06789093, -0.36449638],\n",
       "       [ 0.        , -0.30383973, -5.20478575, ...,  9.2359488 ,\n",
       "         6.93210907, -0.36449638],\n",
       "       ...,\n",
       "       [ 0.        , -0.30383973, -4.20478575, ..., -0.7640512 ,\n",
       "        -2.06789093, -0.36449638],\n",
       "       [ 0.        , -0.30383973, -3.20478575, ...,  5.2359488 ,\n",
       "        -2.06789093, -0.36449638],\n",
       "       [ 0.        , -0.30383973,  4.79521425, ...,  5.2359488 ,\n",
       "        -1.06789093, -0.36449638]])"
      ]
     },
     "execution_count": 12,
     "metadata": {},
     "output_type": "execute_result"
    }
   ],
   "source": [
    "#normalizing data\n",
    "data_norm = data - data_mean\n",
    "data_norm"
   ]
  },
  {
   "cell_type": "code",
   "execution_count": 13,
   "metadata": {},
   "outputs": [
    {
     "data": {
      "text/plain": [
       "array([[ 0.        ,  0.        ,  0.        , ...,  0.        ,\n",
       "         0.        ,  0.        ],\n",
       "       [ 0.        ,  0.8229975 ,  2.40099498, ..., -0.1598953 ,\n",
       "         0.09851423, -0.07406182],\n",
       "       [ 0.        ,  2.40099498, 22.60837352, ..., -1.15544033,\n",
       "         1.41203571,  0.72988047],\n",
       "       ...,\n",
       "       [ 0.        , -0.1598953 , -1.15544033, ..., 34.81734839,\n",
       "        15.64854441,  2.87558266],\n",
       "       [ 0.        ,  0.09851423,  1.41203571, ..., 15.64854441,\n",
       "        16.73258202,  4.72078588],\n",
       "       [ 0.        , -0.07406182,  0.72988047, ...,  2.87558266,\n",
       "         4.72078588,  3.46005282]])"
      ]
     },
     "execution_count": 13,
     "metadata": {},
     "output_type": "execute_result"
    }
   ],
   "source": [
    "#Covariance Matrix calculation data_norm why need to tranform??\n",
    "#as we need to get the comparison between feature and feature not between components we need to transform the normalizedata\n",
    "\n",
    "#numpy broadcasting why required\n",
    "\n",
    "data_cov = np.cov(data_norm.T)\n",
    "data_cov"
   ]
  },
  {
   "cell_type": "code",
   "execution_count": 14,
   "metadata": {},
   "outputs": [
    {
     "data": {
      "text/plain": [
       "(64, 64)"
      ]
     },
     "execution_count": 14,
     "metadata": {},
     "output_type": "execute_result"
    }
   ],
   "source": [
    "data_cov.shape"
   ]
  },
  {
   "cell_type": "code",
   "execution_count": 15,
   "metadata": {},
   "outputs": [],
   "source": [
    "#Now get eigen value and eigen vector from covariance matrix\n",
    "from numpy import linalg as LA"
   ]
  },
  {
   "cell_type": "code",
   "execution_count": 16,
   "metadata": {},
   "outputs": [],
   "source": [
    "from scipy.linalg import eigh"
   ]
  },
  {
   "cell_type": "code",
   "execution_count": 17,
   "metadata": {},
   "outputs": [
    {
     "data": {
      "text/plain": [
       "array([[ 0.00000000e+00,  0.00000000e+00,  1.00000000e+00, ...,\n",
       "         0.00000000e+00,  0.00000000e+00,  0.00000000e+00],\n",
       "       [ 0.00000000e+00,  0.00000000e+00,  0.00000000e+00, ...,\n",
       "        -1.83420720e-02, -1.01064569e-02, -1.73094651e-02],\n",
       "       [-4.60911333e-16, -7.72995727e-15,  0.00000000e+00, ...,\n",
       "        -1.26475543e-01, -4.90849204e-02, -2.23428835e-01],\n",
       "       ...,\n",
       "       [ 5.03905802e-16, -9.14287826e-15,  0.00000000e+00, ...,\n",
       "        -2.32084163e-01,  1.76697117e-01, -8.94184677e-02],\n",
       "       [-3.57451909e-16, -1.59121694e-15,  0.00000000e+00, ...,\n",
       "        -1.67026563e-01,  1.94547053e-02, -3.65977111e-02],\n",
       "       [ 5.02945360e-16, -3.64273685e-16,  0.00000000e+00, ...,\n",
       "        -3.48043832e-02, -6.69693895e-03, -1.14684954e-02]])"
      ]
     },
     "execution_count": 17,
     "metadata": {},
     "output_type": "execute_result"
    }
   ],
   "source": [
    "data_eign, data_eign_vector = eigh(data_cov)\n",
    "data_eign_vector"
   ]
  },
  {
   "cell_type": "markdown",
   "metadata": {},
   "source": [
    "# reverse the eigen_value and eigen vector\n",
    "# number of component = 2\n",
    "#number of eigen_value = 2, eigen_vector = 3"
   ]
  },
  {
   "cell_type": "markdown",
   "metadata": {},
   "source": [
    "# Task "
   ]
  },
  {
   "cell_type": "markdown",
   "metadata": {},
   "source": [
    "### 1. Sort the \"eigen_values and eigen_vectors\" according to the decreasing order of the Eigen value"
   ]
  },
  {
   "cell_type": "code",
   "execution_count": 18,
   "metadata": {},
   "outputs": [
    {
     "data": {
      "text/plain": [
       "array([ 1.79006930e+02,  1.63717747e+02,  1.41788439e+02,  1.01100375e+02,\n",
       "        6.95131656e+01,  5.91085249e+01,  5.18845391e+01,  4.40151067e+01,\n",
       "        4.03109953e+01,  3.70117984e+01,  2.85190412e+01,  2.73211698e+01,\n",
       "        2.19014881e+01,  2.13243565e+01,  1.76367222e+01,  1.69468639e+01,\n",
       "        1.58513899e+01,  1.50044602e+01,  1.22344732e+01,  1.08868593e+01,\n",
       "        1.06935663e+01,  9.58259779e+00,  9.22640260e+00,  8.69036872e+00,\n",
       "        8.36561190e+00,  7.16577961e+00,  6.91973881e+00,  6.19295508e+00,\n",
       "        5.88499123e+00,  5.15586690e+00,  4.49129656e+00,  4.24687799e+00,\n",
       "        4.04743883e+00,  3.94340334e+00,  3.70647245e+00,  3.53165306e+00,\n",
       "        3.08457409e+00,  2.73780002e+00,  2.67210896e+00,  2.54170563e+00,\n",
       "        2.28298744e+00,  1.90724229e+00,  1.81716569e+00,  1.68996439e+00,\n",
       "        1.40197220e+00,  1.29221888e+00,  1.15893419e+00,  9.31220008e-01,\n",
       "        6.69850594e-01,  4.86065217e-01,  2.52350432e-01,  9.91527944e-02,\n",
       "        6.31307848e-02,  6.07377581e-02,  3.96662297e-02,  1.49505636e-02,\n",
       "        8.47307261e-03,  3.62365957e-03,  1.27705113e-03,  6.61270906e-04,\n",
       "        4.12223305e-04,  0.00000000e+00, -5.51833858e-16, -6.44339294e-16])"
      ]
     },
     "execution_count": 18,
     "metadata": {},
     "output_type": "execute_result"
    }
   ],
   "source": [
    "eigen_values = data_eign[::-1]\n",
    "eigen_values"
   ]
  },
  {
   "cell_type": "code",
   "execution_count": 19,
   "metadata": {},
   "outputs": [
    {
     "data": {
      "text/plain": [
       "array([[ 0.00000000e+00,  0.00000000e+00,  0.00000000e+00, ...,\n",
       "         1.00000000e+00,  0.00000000e+00,  0.00000000e+00],\n",
       "       [-1.73094651e-02, -1.01064569e-02, -1.83420720e-02, ...,\n",
       "         0.00000000e+00,  0.00000000e+00,  0.00000000e+00],\n",
       "       [-2.23428835e-01, -4.90849204e-02, -1.26475543e-01, ...,\n",
       "         0.00000000e+00, -7.72995727e-15, -4.60911333e-16],\n",
       "       ...,\n",
       "       [-8.94184677e-02,  1.76697117e-01, -2.32084163e-01, ...,\n",
       "         0.00000000e+00, -9.14287826e-15,  5.03905802e-16],\n",
       "       [-3.65977111e-02,  1.94547053e-02, -1.67026563e-01, ...,\n",
       "         0.00000000e+00, -1.59121694e-15, -3.57451909e-16],\n",
       "       [-1.14684954e-02, -6.69693895e-03, -3.48043832e-02, ...,\n",
       "         0.00000000e+00, -3.64273685e-16,  5.02945360e-16]])"
      ]
     },
     "execution_count": 19,
     "metadata": {},
     "output_type": "execute_result"
    }
   ],
   "source": [
    "eigen_vectors = data_eign_vector[:,::-1]\n",
    "eigen_vectors"
   ]
  },
  {
   "cell_type": "markdown",
   "metadata": {},
   "source": [
    "### 2. Take the first num_of_component components from the eigen_values and eigen_vectors"
   ]
  },
  {
   "cell_type": "code",
   "execution_count": 20,
   "metadata": {},
   "outputs": [
    {
     "name": "stdout",
     "output_type": "stream",
     "text": [
      "[179.0069301  163.71774688]\n"
     ]
    }
   ],
   "source": [
    "n_components = 2\n",
    "values = eigen_values[:n_components]\n",
    "print(values)"
   ]
  },
  {
   "cell_type": "code",
   "execution_count": 21,
   "metadata": {},
   "outputs": [
    {
     "name": "stdout",
     "output_type": "stream",
     "text": [
      "[[ 0.00000000e+00  0.00000000e+00]\n",
      " [-1.73094651e-02 -1.01064569e-02]\n",
      " [-2.23428835e-01 -4.90849204e-02]\n",
      " [-1.35913304e-01 -9.43337493e-03]\n",
      " [-3.30323092e-02 -5.36015636e-02]\n",
      " [-9.66340844e-02 -1.17755318e-01]\n",
      " [-8.32943805e-03 -6.21281792e-02]\n",
      " [ 2.26900082e-03 -7.93574578e-03]\n",
      " [-3.20516495e-04 -1.63216259e-04]\n",
      " [-1.19308905e-01 -2.10167064e-02]\n",
      " [-2.44451676e-01  6.03485687e-02]\n",
      " [ 1.48512745e-01 -5.33769554e-03]\n",
      " [-4.67319410e-02 -9.19769205e-02]\n",
      " [-2.17740744e-01 -5.19210493e-02]\n",
      " [-1.48136776e-02 -5.89354684e-02]\n",
      " [ 4.47779518e-03 -3.33283413e-03]\n",
      " [-4.94136398e-05 -4.22872096e-05]\n",
      " [-7.95419375e-02  3.62458505e-02]\n",
      " [ 8.33951454e-02  1.98257337e-01]\n",
      " [ 2.15915342e-01 -4.86386550e-02]\n",
      " [-1.72126801e-01 -2.25574894e-01]\n",
      " [-1.63712098e-01 -4.50541862e-03]\n",
      " [ 2.86444452e-02  2.67696727e-02]\n",
      " [ 4.23251803e-03 -2.08735745e-04]\n",
      " [ 9.85488574e-05 -5.66233953e-05]\n",
      " [ 6.42319144e-02  7.71235121e-02]\n",
      " [ 2.54093316e-01  1.88447107e-01]\n",
      " [-3.56771026e-02 -1.37952518e-01]\n",
      " [-2.09462569e-01 -2.61042779e-01]\n",
      " [-4.31311420e-02  4.98350596e-02]\n",
      " [ 5.13118688e-02  6.51113775e-02]\n",
      " [ 2.13422732e-04  4.03200346e-05]\n",
      " [ 0.00000000e+00  0.00000000e+00]\n",
      " [ 1.59950883e-01  8.81559918e-02]\n",
      " [ 3.68690774e-01  8.71737595e-02]\n",
      " [ 1.64406827e-01 -2.70860181e-01]\n",
      " [ 8.52007908e-02 -2.85291800e-01]\n",
      " [ 3.72982855e-02  1.66461582e-01]\n",
      " [ 2.15866980e-02  1.27860543e-01]\n",
      " [-3.11150764e-61  0.00000000e+00]\n",
      " [ 1.28865585e-03  2.89440157e-04]\n",
      " [ 1.06945287e-01  5.08304859e-02]\n",
      " [ 3.03067457e-01  1.30274463e-01]\n",
      " [ 2.47813041e-01 -2.68906468e-01]\n",
      " [ 2.09637296e-01 -3.01575537e-01]\n",
      " [ 1.22325219e-02  2.40259064e-01]\n",
      " [-3.69458497e-02  2.17555551e-01]\n",
      " [ 1.61485028e-03  1.32726068e-03]\n",
      " [ 6.93023548e-04  2.86742937e-04]\n",
      " [-8.35144239e-03  1.05548282e-02]\n",
      " [-5.58598986e-02  1.53370694e-01]\n",
      " [ 9.30534169e-02 -1.19535173e-01]\n",
      " [ 1.07387720e-01 -9.72508046e-02]\n",
      " [-1.37734565e-01  2.85869538e-01]\n",
      " [-6.32879466e-02  1.48776446e-01]\n",
      " [ 9.61671077e-04  5.42290907e-04]\n",
      " [ 9.55079131e-06 -3.34028085e-05]\n",
      " [-1.40786840e-02 -1.00791167e-02]\n",
      " [-2.35675488e-01 -7.02724074e-02]\n",
      " [-1.41225588e-01  1.71108112e-02]\n",
      " [-9.15964553e-03  1.94296399e-01]\n",
      " [-8.94184677e-02  1.76697117e-01]\n",
      " [-3.65977111e-02  1.94547053e-02]\n",
      " [-1.14684954e-02 -6.69693895e-03]]\n"
     ]
    }
   ],
   "source": [
    "vectors =eigen_vectors[:, :n_components]\n",
    "print(vectors)"
   ]
  },
  {
   "cell_type": "markdown",
   "metadata": {},
   "source": [
    "### 3. Perform the dimensionality reduction to get lower dimension data by multiplying data matrix with first num_of_component components eigen_vectors matrix"
   ]
  },
  {
   "cell_type": "code",
   "execution_count": 22,
   "metadata": {},
   "outputs": [
    {
     "data": {
      "text/plain": [
       "(1797, 2)"
      ]
     },
     "execution_count": 22,
     "metadata": {},
     "output_type": "execute_result"
    }
   ],
   "source": [
    "lower_dimention = np.matmul(data, vectors)\n",
    "lower_dimention.shape"
   ]
  },
  {
   "cell_type": "code",
   "execution_count": null,
   "metadata": {},
   "outputs": [],
   "source": []
  },
  {
   "cell_type": "markdown",
   "metadata": {},
   "source": [
    "### 4. Visualize the lower dimension data:\n",
    "Use Scatter plot where 1st Component in X-axis and 2nd Component in Y-axis\n",
    "Use target information to identify which data point belongs to which digit to do the color coding and show the legend in the plot.\n",
    "Put title in the plot and resize the plot according to the need."
   ]
  },
  {
   "cell_type": "code",
   "execution_count": 23,
   "metadata": {},
   "outputs": [
    {
     "data": {
      "text/html": [
       "<div>\n",
       "<style scoped>\n",
       "    .dataframe tbody tr th:only-of-type {\n",
       "        vertical-align: middle;\n",
       "    }\n",
       "\n",
       "    .dataframe tbody tr th {\n",
       "        vertical-align: top;\n",
       "    }\n",
       "\n",
       "    .dataframe thead th {\n",
       "        text-align: right;\n",
       "    }\n",
       "</style>\n",
       "<table border=\"1\" class=\"dataframe\">\n",
       "  <thead>\n",
       "    <tr style=\"text-align: right;\">\n",
       "      <th></th>\n",
       "      <th>Principal 1</th>\n",
       "      <th>Principal 2</th>\n",
       "    </tr>\n",
       "  </thead>\n",
       "  <tbody>\n",
       "    <tr>\n",
       "      <th>0</th>\n",
       "      <td>-0.928679</td>\n",
       "      <td>19.554616</td>\n",
       "    </tr>\n",
       "    <tr>\n",
       "      <th>1</th>\n",
       "      <td>8.288399</td>\n",
       "      <td>-22.488966</td>\n",
       "    </tr>\n",
       "    <tr>\n",
       "      <th>2</th>\n",
       "      <td>7.322710</td>\n",
       "      <td>-11.676253</td>\n",
       "    </tr>\n",
       "    <tr>\n",
       "      <th>3</th>\n",
       "      <td>-15.575318</td>\n",
       "      <td>1.612197</td>\n",
       "    </tr>\n",
       "    <tr>\n",
       "      <th>4</th>\n",
       "      <td>23.637655</td>\n",
       "      <td>2.548794</td>\n",
       "    </tr>\n",
       "    <tr>\n",
       "      <th>...</th>\n",
       "      <td>...</td>\n",
       "      <td>...</td>\n",
       "    </tr>\n",
       "    <tr>\n",
       "      <th>1792</th>\n",
       "      <td>-14.275841</td>\n",
       "      <td>11.623857</td>\n",
       "    </tr>\n",
       "    <tr>\n",
       "      <th>1793</th>\n",
       "      <td>6.795361</td>\n",
       "      <td>18.847032</td>\n",
       "    </tr>\n",
       "    <tr>\n",
       "      <th>1794</th>\n",
       "      <td>11.132071</td>\n",
       "      <td>-8.680519</td>\n",
       "    </tr>\n",
       "    <tr>\n",
       "      <th>1795</th>\n",
       "      <td>-4.541313</td>\n",
       "      <td>10.703687</td>\n",
       "    </tr>\n",
       "    <tr>\n",
       "      <th>1796</th>\n",
       "      <td>-0.013602</td>\n",
       "      <td>4.645282</td>\n",
       "    </tr>\n",
       "  </tbody>\n",
       "</table>\n",
       "<p>1797 rows × 2 columns</p>\n",
       "</div>"
      ],
      "text/plain": [
       "      Principal 1  Principal 2\n",
       "0       -0.928679    19.554616\n",
       "1        8.288399   -22.488966\n",
       "2        7.322710   -11.676253\n",
       "3      -15.575318     1.612197\n",
       "4       23.637655     2.548794\n",
       "...           ...          ...\n",
       "1792   -14.275841    11.623857\n",
       "1793     6.795361    18.847032\n",
       "1794    11.132071    -8.680519\n",
       "1795    -4.541313    10.703687\n",
       "1796    -0.013602     4.645282\n",
       "\n",
       "[1797 rows x 2 columns]"
      ]
     },
     "execution_count": 23,
     "metadata": {},
     "output_type": "execute_result"
    }
   ],
   "source": [
    "component_data = pd.DataFrame(data = lower_dimention, \n",
    "                              columns = ('Principal 1', 'Principal 2'))\n",
    "component_data"
   ]
  },
  {
   "cell_type": "code",
   "execution_count": 24,
   "metadata": {},
   "outputs": [
    {
     "data": {
      "text/plain": [
       "<matplotlib.legend.Legend at 0x7f7e22f0d128>"
      ]
     },
     "execution_count": 24,
     "metadata": {},
     "output_type": "execute_result"
    },
    {
     "data": {
      "image/png": "[encoded data removed]",
      "text/plain": [
       "<Figure size 1080x648 with 1 Axes>"
      ]
     },
     "metadata": {
      "needs_background": "light"
     },
     "output_type": "display_data"
    }
   ],
   "source": [
    "plt.figure(figsize = (15, 9))\n",
    "\n",
    "for label in range(10):\n",
    "    plt.scatter(component_data['Principal 1'], component_data['Principal 2'], label = label)\n",
    "\n",
    "plt.title('Plot of two principals')\n",
    "plt.xlabel('Principal 1')\n",
    "plt.ylabel('Principal 2')\n",
    "plt.legend()"
   ]
  },
  {
   "cell_type": "markdown",
   "metadata": {},
   "source": [
    "### 5. Find the num_of_component according to the variance explained of the eigen value\n",
    ".\n",
    "\n",
    "Calculate the variance explained by each eigen value as\n",
    "\n",
    "    explained_variance[i]=eigen_values[i]\n",
    "\n",
    "    ∑Nj=1eigen_values[j] \n",
    "    \n",
    "Calculate the total variance explained by the first K eigen value using:\n",
    "    \n",
    "    total_variance[K]=∑i=1Kexplained_variance[i] \n",
    "    \n",
    "    N = Number of eigen value i.e 64 and K is number of eigen values that varies from 1 to N\n",
    "\n",
    "For graph plotting\n",
    "\n",
    "Do line plot where K value in X-axis, total_variance[K] value in Y-axis\n",
    "using parameter marker='o', linestyle='--', color='b'\n",
    "\n",
    "Put Proper x-label, y-label and title in the graph\n",
    "\n",
    "Show vertical grid line in the graph\n",
    "\n",
    "Plot one horizontal red color line at the choosen threshold level.\n",
    "\n",
    "Write down the conclusion that you get from the graph"
   ]
  },
  {
   "cell_type": "code",
   "execution_count": 25,
   "metadata": {},
   "outputs": [
    {
     "data": {
      "text/plain": [
       "[0.14890593584063846,\n",
       " 0.13618771239635433,\n",
       " 0.11794593763975791,\n",
       " 0.08409979421009176,\n",
       " 0.057824146640055224,\n",
       " 0.04916910317124007,\n",
       " 0.04315987010825788,\n",
       " 0.036613725770840565,\n",
       " 0.03353248097967134,\n",
       " 0.03078806208904551,\n",
       " 0.023723408440031103,\n",
       " 0.022726965688095638,\n",
       " 0.018218633129951943,\n",
       " 0.01773854937181914,\n",
       " 0.014671010927893071,\n",
       " 0.01409715601608703,\n",
       " 0.013185892007274267,\n",
       " 0.012481378178255566,\n",
       " 0.010177179603215679,\n",
       " 0.009056174389949878,\n",
       " 0.008895384605194864,\n",
       " 0.007971231565335723,\n",
       " 0.007674932545637226,\n",
       " 0.007229035693267008,\n",
       " 0.006958888509009783,\n",
       " 0.0059608145803861125,\n",
       " 0.005756146883400507,\n",
       " 0.005151575817493706,\n",
       " 0.004895397766908164,\n",
       " 0.004288879680557599,\n",
       " 0.0037360604832562274,\n",
       " 0.0035327422344969715,\n",
       " 0.0033668398553907387,\n",
       " 0.0032802985052767172,\n",
       " 0.0030832088410218256,\n",
       " 0.00293778628556992,\n",
       " 0.0025658860885626935,\n",
       " 0.0022774239743306502,\n",
       " 0.0022227792211343004,\n",
       " 0.0021143039263863345,\n",
       " 0.0018990906184110817,\n",
       " 0.0015865290661707557,\n",
       " 0.0015115993446663037,\n",
       " 0.0014057876368111046,\n",
       " 0.0011662229032997065,\n",
       " 0.001074925211044007,\n",
       " 0.0009640530649619469,\n",
       " 0.0007746302710930096,\n",
       " 0.0005572115529828891,\n",
       " 0.00040433069289532255,\n",
       " 0.00020991632719365478,\n",
       " 8.247970977785034e-05,\n",
       " 5.251499804655679e-05,\n",
       " 5.052437189833049e-05,\n",
       " 3.299613627242704e-05,\n",
       " 1.243654453779276e-05,\n",
       " 7.048279110007227e-06,\n",
       " 3.014321393510712e-06,\n",
       " 1.0623080009004653e-06,\n",
       " 5.500745871591804e-07,\n",
       " 3.42905702165141e-07,\n",
       " 0.0,\n",
       " 4.590399768129701e-19,\n",
       " 5.359901178656447e-19]"
      ]
     },
     "execution_count": 25,
     "metadata": {},
     "output_type": "execute_result"
    }
   ],
   "source": [
    "significance = [np.abs(i)/np.sum(eigen_values) for i in eigen_values]\n",
    "significance"
   ]
  },
  {
   "cell_type": "code",
   "execution_count": 26,
   "metadata": {},
   "outputs": [
    {
     "data": {
      "image/png": "[encoded data removed]",
      "text/plain": [
       "<Figure size 1080x360 with 1 Axes>"
      ]
     },
     "metadata": {
      "needs_background": "light"
     },
     "output_type": "display_data"
    }
   ],
   "source": [
    "plt.figure(figsize=(15,5))\n",
    "plt.plot(np.cumsum(significance), marker='*', linestyle='--', color='b')\n",
    "plt.xlabel('Number of Components')\n",
    "plt.ylabel('Variance(%)')\n",
    "plt.title('Variance Explained Dataset')\n",
    "plt.axhline(y = 0.95, color='r', linestyle = '-')\n",
    "plt.grid(axis='x')\n",
    "plt.show()"
   ]
  },
  {
   "cell_type": "code",
   "execution_count": null,
   "metadata": {},
   "outputs": [],
   "source": []
  }
 ],
 "metadata": {
  "kernelspec": {
   "display_name": "Python 3",
   "language": "python",
   "name": "python3"
  },
  "language_info": {
   "codemirror_mode": {
    "name": "ipython",
    "version": 3
   },
   "file_extension": ".py",
   "mimetype": "text/x-python",
   "name": "python",
   "nbconvert_exporter": "python",
   "pygments_lexer": "ipython3",
   "version": "3.6.9"
  }
 },
 "nbformat": 4,
 "nbformat_minor": 4
}
